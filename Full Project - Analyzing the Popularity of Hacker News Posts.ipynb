{
 "cells": [
  {
   "cell_type": "code",
   "execution_count": 1,
   "metadata": {},
   "outputs": [],
   "source": [
    "__author__ = 'Ola Olagunju'\n",
    "__email__ = 'gunjujide@gmail.com'"
   ]
  },
  {
   "cell_type": "markdown",
   "metadata": {
    "collapsed": true
   },
   "source": [
    "# Analyzing the Popularity of Hacker News Posts\n",
    "----------------\n",
    "\n",
    "## 1. Introduction\n",
    "[Hacker News](https://news.ycombinator.com/) is a social news website, under the startup incubator [Y Combinator](https://www.ycombinator.com/), with a focus on computer science and entrepreneurship. Hacker News gains huge popularity in technology and startup communities. On this site, users can submit any posts, which \"gratify one's intellectual curiosity\" (Ref: Hacker News Guidelines). Their posts are voted and commented upon, where the top-ranked posts can draw hundreds of thousands of traffic.\n",
    "\n",
    "You can find the original dataset for Hacker News posts [here](https://www.kaggle.com/hacker-news/hacker-news-posts). For this project, we use the **hacker_news.csv** dataset, a modified dataset, of which approximately 300,000 data rows have been trimmed down to 20,000 rows by:\n",
    "\n",
    "- Deleting all the posts without any comments\n",
    "\n",
    "- Sampling randomly from the remaining posts after the deletion\n",
    "\n",
    "Here are the descriptions for the columns of the **hacker_news.csv** dataset:\n",
    "\n",
    "- **id**: The unique identifier for the post\n",
    "- **title**: The title of the post\n",
    "- **url**: The URL that the posts link to if the post has a URL\n",
    "- **num_points**: The number of points the post acquired, calculated as the total number of upvotes minus the total number of downvotes\n",
    "- **num_comments**: The number of comments that were made on the post\n",
    "- **author**: The username of the person who submitted the post\n",
    "- **created_at**: The date and time at which the post was submitted (time zone Eastern Time in the US)\n",
    "\n",
    "We will be analyzing the posts that begin with 'Ask HN' or 'Show HN' in the title\n",
    "\n",
    "Users submit Ask HN posts to ask the Hacker News community a specific question. For example: \n",
    "- Ask HN: How to improve my personal website?\n",
    "- Ask HN: Am I the only one outraged by Twitter shutting down share counts?\n",
    "- Ask HN: Aby recent changes to CSS that broke mobile?\n",
    "\n",
    "Likewise, users submit Show HN posts to show the Hacker News community a project, product, or just generally something interesting. For example:\n",
    "- Show HN: Wio Link  ESP8266 Based Web of Things Hardware Development Platform'\n",
    "- Show HN: Something pointless I made\n",
    "- Show HN: Shanhu.io, a programming playground powered by e8vm\n",
    "\n",
    "### Targets\n",
    "\n",
    "1) Identify the type of post that is more popular between 'Ask HN' and 'Show HN'.\n",
    "\n",
    "2) Does 'Ask HN' or 'Show HN' receive more comments (engagement) on average?\n",
    "\n",
    "3) Do posts created at a certain time receive more comments on average?\n",
    "\n",
    "## 2. Data Exploration"
   ]
  },
  {
   "cell_type": "code",
   "execution_count": 17,
   "metadata": {},
   "outputs": [
    {
     "name": "stdout",
     "output_type": "stream",
     "text": [
      "[['12224879', 'Interactive Dynamic Video', 'http://www.interactivedynamicvideo.com/', '386', '52', 'ne0phyte', '8/4/2016 11:52'], ['10975351', 'How to Use Open Source and Shut the Fuck Up at the Same Time', 'http://hueniverse.com/2016/01/26/how-to-use-open-source-and-shut-the-fuck-up-at-the-same-time/', '39', '10', 'josep2', '1/26/2016 19:30'], ['11964716', \"Florida DJs May Face Felony for April Fools' Water Joke\", 'http://www.thewire.com/entertainment/2013/04/florida-djs-april-fools-water-joke/63798/', '2', '1', 'vezycash', '6/23/2016 22:20'], ['11919867', 'Technology ventures: From Idea to Enterprise', 'https://www.amazon.com/Technology-Ventures-Enterprise-Thomas-Byers/dp/0073523429', '3', '1', 'hswarna', '6/17/2016 0:01'], ['10301696', 'Note by Note: The Making of Steinway L1037 (2007)', 'http://www.nytimes.com/2007/11/07/movies/07stein.html?_r=0', '8', '2', 'walterbell', '9/30/2015 4:12']]\n"
     ]
    }
   ],
   "source": [
    "# Read the file and put it in a list of lists\n",
    "from csv import reader\n",
    "\n",
    "read_file = reader(open('hacker_news.csv'))\n",
    "hn = list(read_file)\n",
    "headers = hn[0]\n",
    "hn = hn[1:]\n",
    "\n",
    "print(hn[:5])"
   ]
  },
  {
   "cell_type": "code",
   "execution_count": 18,
   "metadata": {
    "scrolled": true
   },
   "outputs": [
    {
     "name": "stdout",
     "output_type": "stream",
     "text": [
      "Ask HN has 1744 posts\n",
      "Show HN has 1162 posts\n"
     ]
    }
   ],
   "source": [
    "# Sort all the posts into three different categories\n",
    "ask_posts = [] # 'Ask HN posts'\n",
    "show_posts = [] # 'Show HN posts'\n",
    "other_posts = [] # 'Other posts'\n",
    "\n",
    "for row in hn:\n",
    "    title = row[1].lower()\n",
    "    \n",
    "    if title.startswith('ask hn'):\n",
    "        ask_posts.append(row)\n",
    "    elif title.startswith('show hn'):\n",
    "        show_posts.append(row)\n",
    "    else:\n",
    "        other_posts.append(row)\n",
    "\n",
    "# Check how many posts are in each category\n",
    "print('Ask HN has', len(ask_posts), 'posts')\n",
    "print('Show HN has', len(show_posts), 'posts')\n",
    "\n",
    "#print('Other posts have', len(other_posts), 'posts')"
   ]
  },
  {
   "cell_type": "markdown",
   "metadata": {},
   "source": [
    "## 3. Data Analysis"
   ]
  },
  {
   "cell_type": "code",
   "execution_count": 25,
   "metadata": {},
   "outputs": [
    {
     "name": "stdout",
     "output_type": "stream",
     "text": [
      "Average number of Ask HN comments: 14\n",
      "Average number of Show HN comments: 10\n"
     ]
    }
   ],
   "source": [
    "# checking to see which category receives more comments on average\n",
    "\n",
    "total_ask_comments, total_show_comments = 0, 0\n",
    "\n",
    "for post in ask_posts:\n",
    "    num_comments = float(post[4])\n",
    "    total_ask_comments += num_comments\n",
    "\n",
    "for post in show_posts:\n",
    "    num_comments = float(post[4])\n",
    "    total_show_comments += num_comments\n",
    "\n",
    "avg_ask_comments = total_ask_comments/len(ask_posts)\n",
    "avg_show_comments = total_show_comments/len(show_posts)\n",
    "\n",
    "print('Average number of Ask HN comments:', round(avg_ask_comments))\n",
    "print('Average number of Show HN comments:', round(avg_show_comments))\n",
    "\n"
   ]
  },
  {
   "cell_type": "markdown",
   "metadata": {},
   "source": [
    "As we can see above, Ask HN posts have more comments on average, and seem to be more popular than Show HN posts. \n",
    "\n",
    "We'll now focus on Ask HN posts. We'll check to see what time in the day attracts more Ask HN posts."
   ]
  },
  {
   "cell_type": "code",
   "execution_count": 39,
   "metadata": {
    "scrolled": true
   },
   "outputs": [
    {
     "name": "stdout",
     "output_type": "stream",
     "text": [
      "[('15', 116), ('19', 110), ('21', 109), ('18', 109), ('16', 108), ('14', 107), ('17', 100), ('13', 85), ('20', 80), ('12', 73), ('22', 71), ('23', 68), ('01', 60), ('10', 59), ('02', 58), ('11', 58), ('00', 55), ('03', 54), ('08', 48), ('04', 47), ('05', 46), ('09', 45), ('06', 44), ('07', 34)] \n",
      "\n",
      "[('15', 4477.0), ('16', 1814.0), ('21', 1745.0), ('20', 1722.0), ('18', 1439.0), ('14', 1416.0), ('02', 1381.0), ('13', 1253.0), ('19', 1188.0), ('17', 1146.0), ('10', 793.0), ('12', 687.0), ('01', 683.0), ('11', 641.0), ('23', 543.0), ('08', 492.0), ('22', 479.0), ('05', 464.0), ('00', 447.0), ('03', 421.0), ('06', 397.0), ('04', 337.0), ('07', 267.0), ('09', 251.0)]\n"
     ]
    }
   ],
   "source": [
    "# Find number of posts (and comments) for each hour of the day\n",
    "\n",
    "import datetime as dt\n",
    "\n",
    "result_list = []\n",
    "\n",
    "for post in ask_posts:\n",
    "    result_list.append([post[6], float(post[4])]) \n",
    "    \n",
    "counts_by_hour, comments_by_hour = {}, {}\n",
    "\n",
    "for row in result_list:\n",
    "    date = row[0]\n",
    "    date_obj = dt.datetime.strptime(date, '%m/%d/%Y %H:%M')\n",
    "    hour = dt.datetime.strftime(date_obj, '%H')\n",
    "    \n",
    "    if hour not in counts_by_hour:\n",
    "        counts_by_hour[hour] = 1\n",
    "        comments_by_hour[hour] = row[1]\n",
    "    else:\n",
    "        counts_by_hour[hour] += 1\n",
    "        comments_by_hour[hour] += row[1]\n",
    "        \n",
    "print(sorted(counts_by_hour.items(), key = lambda x:x[1], reverse = True), '\\n')\n",
    "print(sorted(comments_by_hour.items(), key = lambda x:x[1], reverse = True))"
   ]
  },
  {
   "cell_type": "code",
   "execution_count": 64,
   "metadata": {
    "scrolled": true
   },
   "outputs": [
    {
     "name": "stdout",
     "output_type": "stream",
     "text": [
      "[['15', 38.59], ['02', 23.81], ['20', 21.52], ['16', 16.8], ['21', 16.01], ['13', 14.74], ['10', 13.44], ['14', 13.23], ['18', 13.2], ['17', 11.46], ['01', 11.38], ['11', 11.05], ['19', 10.8], ['08', 10.25], ['05', 10.09], ['12', 9.41], ['06', 9.02], ['00', 8.13], ['23', 7.99], ['07', 7.85], ['03', 7.8], ['04', 7.17], ['22', 6.75], ['09', 5.58]]\n",
      "\n",
      "\n",
      "Top 5 Hours for Ask Posts Comments:\n",
      "\n",
      "3 PM EST or 8 PM GMT: 39 average comments per post\n",
      "2 AM EST or 7 AM GMT: 24 average comments per post\n",
      "8 PM EST or 1 AM GMT: 22 average comments per post\n",
      "4 PM EST or 9 PM GMT: 17 average comments per post\n",
      "9 PM EST or 2 AM GMT: 16 average comments per post\n"
     ]
    }
   ],
   "source": [
    "# Show which times have the most comments (engagement) on average\n",
    "\n",
    "avg_comments_by_hour = []\n",
    "\n",
    "for post in comments_by_hour:\n",
    "    avg_comments_by_hour.append([post, round(comments_by_hour[post]/counts_by_hour[post], 2)])\n",
    "\n",
    "avg_comments_by_hour = sorted(avg_comments_by_hour, key = lambda x:x[1], reverse = True)\n",
    "print(avg_comments_by_hour)\n",
    "\n",
    "print('\\n\\nTop 5 Hours for Ask Posts Comments:\\n')\n",
    "\n",
    "for hour in avg_comments_by_hour[:5]:\n",
    "    est_time = dt.datetime.strptime(hour[0], '%H')\n",
    "    gmt_time = est_time + dt.timedelta(hours = 5)\n",
    "    \n",
    "    est_time = dt.datetime.strftime(est_time, '%-I %p')\n",
    "    gmt_time = dt.datetime.strftime(gmt_time, '%-I %p')\n",
    "    \n",
    "    print('{} EST or {} GMT: {:.0f} average comments per post'.format(est_time, gmt_time, hour[1]))\n",
    "    "
   ]
  },
  {
   "cell_type": "markdown",
   "metadata": {},
   "source": [
    "Taking into consideration that Hacker News attracts viwership from all continents, it is logical that the times when users are usually online in these timezones would be reflected in the averages. 8:00PM GMT recieves the most engagement on posts, as many people are usually home and active online in the evening. At 7:00AM GMT, many people are active online before going to work/school. The reasoning behind the average cooments for 8:00PM EST, 9:00PM EST, 9:00PM GMT are identical to that of 8:00PM GMT. For 1:00AM GMT, 2:00AM GMT, 2:00AM EST, 3:00PM EST and 4:00PM EST, these are not times when most users would be online, so we won't consider these as best hours to post in Ask HN."
   ]
  },
  {
   "cell_type": "markdown",
   "metadata": {},
   "source": [
    "## 4. Conclusion\n",
    "Based on our analysis, we have learned that:\n",
    "- 'Ask HN' (Ask Hacker News) posts are more popular than 'Ask HN' (Show Hacker News) posts.\n",
    "- Ask HN posts receive more comments engagement than Show HN posts.\n",
    "- 8:00pm and 9:00pm (EST or GMT) are the best times to post in Ask HN, where the most user engagement happens. "
   ]
  }
 ],
 "metadata": {
  "kernelspec": {
   "display_name": "Python 3",
   "language": "python",
   "name": "python3"
  },
  "language_info": {
   "codemirror_mode": {
    "name": "ipython",
    "version": 3
   },
   "file_extension": ".py",
   "mimetype": "text/x-python",
   "name": "python",
   "nbconvert_exporter": "python",
   "pygments_lexer": "ipython3",
   "version": "3.8.5"
  }
 },
 "nbformat": 4,
 "nbformat_minor": 2
}
